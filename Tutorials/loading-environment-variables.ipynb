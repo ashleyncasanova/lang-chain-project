{
 "cells": [
  {
   "cell_type": "markdown",
   "metadata": {},
   "source": [
    "[Using python-dotenv to Load Environment Variables](https://sparkbyexamples.com/python/using-python-dotenv-load-environment-variables/)\n",
    "\n",
    "The python-dotenv package is popular for managing environment variables and keeping sensitive information out of code repositories. In this article, we will discuss how to use python-dotenv to load environment variables from a .env file in your Python projects.\n",
    "\n",
    "We will also cover the installation process, how to store environment variables in a .env file, how to load the .env file, and best practices for version controlling your .env file. Before anything else, let’s see how we can use it briefly.\n",
    "\n",
    "1. python-dotenv to Load Environment Variables\n",
    "We will discuss each step in detail letter on, If you hurry this section is for you. It is a quick guide that will give you an idea of how to use python-dotenv to load environment variables.\n",
    "\n",
    "* Create a new virtual environment.\n",
    "* Activate the virtual environment.\n",
    "* Install the python-dotenv package.\n",
    "* Create a new file called .env in the root directory.\n",
    "* Add your environment variables as key-value pairs.\n",
    "* Import the load_dotenv function.\n",
    "* Call the load_dotenv function to load the environment.\n",
    "* Use the os.getenv function to get the value of a specific environment variable.\n",
    "\n",
    "See the following example, where we use the python-dotenv package to access the environment variables from .env file.\n"
   ]
  },
  {
   "cell_type": "markdown",
   "metadata": {},
   "source": []
  }
 ],
 "metadata": {
  "language_info": {
   "name": "python"
  },
  "orig_nbformat": 4
 },
 "nbformat": 4,
 "nbformat_minor": 2
}
