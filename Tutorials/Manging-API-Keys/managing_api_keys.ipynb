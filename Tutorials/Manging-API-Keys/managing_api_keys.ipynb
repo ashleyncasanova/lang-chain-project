{
 "cells": [
  {
   "cell_type": "markdown",
   "metadata": {},
   "source": [
    "___\n",
    "### [How to manage API Keys in Python](https://www.youtube.com/watch?v=vcDfNvC6Ui4)\n",
    "\n",
    "In this tutorial we will learn how to store, manage and load API keys using python.\n",
    "\n",
    "API keys are used to authenticate ourselves with products and services we want to use. We want to keep these secret so no one can access our account."
   ]
  },
  {
   "cell_type": "markdown",
   "metadata": {},
   "source": [
    "Let's say we had some application in a file called `main.py` that requires an API key.\n",
    "\n",
    "We could pass in plain text. However, this is not recommended as the API KEY is visible in the code. \n",
    "\n",
    "\\\n",
    "`main.py`\n",
    "\n",
    "```python\n",
    "# some code\n",
    "\n",
    "client = SoftwareClient(\"kjhgsdfkfgasgdjfsdh\")\n",
    "```\n",
    "\n",
    "\\\n",
    "Another method would be to load your API key from a text file. However, best practice is to use environment variables (either the <span style=\"color:hotpink\">system variables</span> that are already there (stored via the command line and are applicable system wide) or you can use a specific <span style=\"color:hotpink\">`.env` file</span>)."
   ]
  },
  {
   "cell_type": "markdown",
   "metadata": {},
   "source": [
    "### <span style=\"color:hotpink\">Environment variable: System Variables</span>\n",
    "\n",
    "* stored via the command line and are applicable system wide\n",
    "\n",
    "\\\n",
    "In windows terminal you can use the `setx` command to set the API key directly...\n",
    "\n",
    "```terminal\n",
    "setx SECRET_API_KEY \"gjksdafsad685fsadsdfa\"\n",
    "```\n",
    "\\\n",
    "In linux we would use `export` to set the API key through the terminal...\n",
    "\n",
    "```terminal\n",
    "export SECRET_API_KEY \"gjksdafsad685fsadsdfa\"\n",
    "```\n",
    "\n",
    "\\\n",
    "Then in our `main.py` file we can get the key from our environment variables...\n",
    "\n",
    "```python\n",
    "import os\n",
    "\n",
    "api_key = os.getenv(\"SECRET_API_KEY)\n",
    "\n",
    "client = SoftwareClient(api_key)\n",
    "```"
   ]
  },
  {
   "cell_type": "markdown",
   "metadata": {},
   "source": [
    "#### <span style=\"color:hotpink\">Environment variable: `.env` file</span>\n",
    "\n",
    "We can create a `.env` file..\n",
    "\n",
    "```python\n",
    "SECRET_API_KEY=\"lsjdfljfgmnkdfjhgiufuakljljfsd\"\n",
    "OTHER_KEY=\"985784753978974\"\n",
    "THIRD_KEY=\"abc123\"\n",
    "```\n",
    "\n",
    "Then we can load these environment variables from our `.env` file.\n",
    "\n",
    "\\\n",
    "First we need to install `python-dotenv`` from the command line:\n",
    "\n",
    "```terminal\n",
    "pip install python-dotenv\n",
    "```\n",
    "\n",
    "\\\n",
    "Then we can load `dotenv` into our `main.py` file and call the `load_dotenv` function. This will automatically load the `.env` file.\n",
    "\n",
    "```python\n",
    "import os\n",
    "from dotenv import load_dotenv\n",
    "\n",
    "load_dotenv() # loads .env file\n",
    "\n",
    "api_key = os.getenv(\"SECRET_API_KEY\")\n",
    "\n",
    "client = SoftwareClient(api_key)\n",
    "```\n",
    "\n",
    ">Note: If you always want to override the system variable (assuming you have one of the same name) you can set override=True, `load_dotenv(override=True)`."
   ]
  },
  {
   "cell_type": "markdown",
   "metadata": {},
   "source": [
    "___\n",
    "See [here](https://www.youtube.com/watch?v=8dlQ_nDE7dQ) for another useful video."
   ]
  },
  {
   "cell_type": "markdown",
   "metadata": {},
   "source": [
    "___\n",
    "`main.py` and `main.ipynb` are test files storing API keys in python and jupyter notebook files, respectively."
   ]
  },
  {
   "cell_type": "markdown",
   "metadata": {},
   "source": []
  }
 ],
 "metadata": {
  "language_info": {
   "name": "python"
  },
  "orig_nbformat": 4
 },
 "nbformat": 4,
 "nbformat_minor": 2
}
